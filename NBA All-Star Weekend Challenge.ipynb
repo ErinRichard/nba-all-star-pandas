{
 "cells": [
  {
   "cell_type": "markdown",
   "metadata": {},
   "source": [
    "# NBA All-Star Weekend Challenge\n",
    "\n",
    "Your task...answer the following questions given the dataset given about the NBA All-Star Game from the year 2000 - 2016\n",
    "\n",
    "Become more familiar with the dataset <a href=\"https://www.kaggle.com/fmejia21/nba-all-star-game-20002016\">here</a>\n",
    "\n",
    "Once completed, commit this notebook to github and submit the link to the google classroom assignment.\n",
    "\n",
    "<a href=\"https://classroom.google.com/u/2/c/NDc4MzEzMjI5Nzla/a/NTE3OTYxNzM2OTNa/details\">Google Classroom</a>"
   ]
  },
  {
   "cell_type": "markdown",
   "metadata": {},
   "source": [
    "# What is the average weight of all players who played during this time?"
   ]
  },
  {
   "cell_type": "code",
   "execution_count": 1,
   "metadata": {},
   "outputs": [],
   "source": [
    "import pandas as pd\n",
    "import numpy as np"
   ]
  },
  {
   "cell_type": "code",
   "execution_count": 34,
   "metadata": {},
   "outputs": [
    {
     "name": "stdout",
     "output_type": "stream",
     "text": [
      " Avg Weight Calc Using .describe(): 229.0\n",
      " \n",
      " Avg Weight Calc By Column .mean(): 229\n"
     ]
    }
   ],
   "source": [
    "nba = pd.read_csv('NBA All Stars 2000-2016 - Sheet1.csv',sep = ',')\n",
    "\n",
    "\n",
    "avg_wt = nba['WT'].describe()['mean']\n",
    "print(f\" Avg Weight Calc Using .describe(): {avg_wt.round()}\")\n",
    "\n",
    "\n",
    "print(f\" \\n Avg Weight Calc By Column .mean(): {round(nba['WT'].mean())}\")"
   ]
  },
  {
   "cell_type": "markdown",
   "metadata": {},
   "source": [
    "# What team is represented the most during this time?"
   ]
  },
  {
   "cell_type": "code",
   "execution_count": 70,
   "metadata": {},
   "outputs": [
    {
     "name": "stdout",
     "output_type": "stream",
     "text": [
      " Team Summary - Miami Heat Was Top with Frequency of 28: \n",
      " count            439\n",
      "unique            34\n",
      "top       Miami Heat\n",
      "freq              28\n",
      "Name: Team, dtype: object\n"
     ]
    },
    {
     "data": {
      "text/html": [
       "<div>\n",
       "<style scoped>\n",
       "    .dataframe tbody tr th:only-of-type {\n",
       "        vertical-align: middle;\n",
       "    }\n",
       "\n",
       "    .dataframe tbody tr th {\n",
       "        vertical-align: top;\n",
       "    }\n",
       "\n",
       "    .dataframe thead th {\n",
       "        text-align: right;\n",
       "    }\n",
       "</style>\n",
       "<table border=\"1\" class=\"dataframe\">\n",
       "  <thead>\n",
       "    <tr style=\"text-align: right;\">\n",
       "      <th></th>\n",
       "      <th>Year</th>\n",
       "      <th>Player</th>\n",
       "      <th>Pos</th>\n",
       "      <th>HT</th>\n",
       "      <th>WT</th>\n",
       "      <th>Selection Type</th>\n",
       "      <th>NBA Draft Status</th>\n",
       "      <th>Nationality</th>\n",
       "    </tr>\n",
       "    <tr>\n",
       "      <th>Team</th>\n",
       "      <th></th>\n",
       "      <th></th>\n",
       "      <th></th>\n",
       "      <th></th>\n",
       "      <th></th>\n",
       "      <th></th>\n",
       "      <th></th>\n",
       "      <th></th>\n",
       "    </tr>\n",
       "  </thead>\n",
       "  <tbody>\n",
       "    <tr>\n",
       "      <th>Miami Heat</th>\n",
       "      <td>28</td>\n",
       "      <td>28</td>\n",
       "      <td>28</td>\n",
       "      <td>28</td>\n",
       "      <td>28</td>\n",
       "      <td>28</td>\n",
       "      <td>28</td>\n",
       "      <td>28</td>\n",
       "    </tr>\n",
       "    <tr>\n",
       "      <th>Boston Celtics</th>\n",
       "      <td>26</td>\n",
       "      <td>26</td>\n",
       "      <td>26</td>\n",
       "      <td>26</td>\n",
       "      <td>26</td>\n",
       "      <td>26</td>\n",
       "      <td>26</td>\n",
       "      <td>26</td>\n",
       "    </tr>\n",
       "    <tr>\n",
       "      <th>San Antonio Spurs</th>\n",
       "      <td>25</td>\n",
       "      <td>25</td>\n",
       "      <td>25</td>\n",
       "      <td>25</td>\n",
       "      <td>25</td>\n",
       "      <td>25</td>\n",
       "      <td>25</td>\n",
       "      <td>25</td>\n",
       "    </tr>\n",
       "    <tr>\n",
       "      <th>Los Angeles Lakers</th>\n",
       "      <td>25</td>\n",
       "      <td>25</td>\n",
       "      <td>25</td>\n",
       "      <td>25</td>\n",
       "      <td>25</td>\n",
       "      <td>25</td>\n",
       "      <td>25</td>\n",
       "      <td>25</td>\n",
       "    </tr>\n",
       "    <tr>\n",
       "      <th>Houston Rockets</th>\n",
       "      <td>20</td>\n",
       "      <td>20</td>\n",
       "      <td>20</td>\n",
       "      <td>20</td>\n",
       "      <td>20</td>\n",
       "      <td>20</td>\n",
       "      <td>20</td>\n",
       "      <td>20</td>\n",
       "    </tr>\n",
       "  </tbody>\n",
       "</table>\n",
       "</div>"
      ],
      "text/plain": [
       "                    Year  Player  Pos  HT  WT  Selection Type  \\\n",
       "Team                                                            \n",
       "Miami Heat            28      28   28  28  28              28   \n",
       "Boston Celtics        26      26   26  26  26              26   \n",
       "San Antonio Spurs     25      25   25  25  25              25   \n",
       "Los Angeles Lakers    25      25   25  25  25              25   \n",
       "Houston Rockets       20      20   20  20  20              20   \n",
       "\n",
       "                    NBA Draft Status  Nationality  \n",
       "Team                                               \n",
       "Miami Heat                        28           28  \n",
       "Boston Celtics                    26           26  \n",
       "San Antonio Spurs                 25           25  \n",
       "Los Angeles Lakers                25           25  \n",
       "Houston Rockets                   20           20  "
      ]
     },
     "execution_count": 70,
     "metadata": {},
     "output_type": "execute_result"
    }
   ],
   "source": [
    "nba.sort_values('Team')\n",
    "print(f\" Team Summary - Miami Heat Was Top with Frequency of 28: \\n {nba['Team'].describe()}\")\n",
    "\n",
    "teams = nba.groupby(['Team']).count().sort_values('Year', ascending=False)\n",
    "teams.head(5)"
   ]
  },
  {
   "cell_type": "markdown",
   "metadata": {},
   "source": [
    "# What draft class is represeted the most during this time?"
   ]
  },
  {
   "cell_type": "code",
   "execution_count": 69,
   "metadata": {},
   "outputs": [
    {
     "name": "stdout",
     "output_type": "stream",
     "text": [
      " Draft Status Summary - 1996 Rnd 1 Pick 13 was the Top Draft Class with Frequency of 16: \n",
      " count                    439\n",
      "unique                   123\n",
      "top       1996 Rnd 1 Pick 13\n",
      "freq                      16\n",
      "Name: NBA Draft Status, dtype: object\n"
     ]
    },
    {
     "data": {
      "text/html": [
       "<div>\n",
       "<style scoped>\n",
       "    .dataframe tbody tr th:only-of-type {\n",
       "        vertical-align: middle;\n",
       "    }\n",
       "\n",
       "    .dataframe tbody tr th {\n",
       "        vertical-align: top;\n",
       "    }\n",
       "\n",
       "    .dataframe thead th {\n",
       "        text-align: right;\n",
       "    }\n",
       "</style>\n",
       "<table border=\"1\" class=\"dataframe\">\n",
       "  <thead>\n",
       "    <tr style=\"text-align: right;\">\n",
       "      <th></th>\n",
       "      <th>Year</th>\n",
       "      <th>Player</th>\n",
       "      <th>Pos</th>\n",
       "      <th>HT</th>\n",
       "      <th>WT</th>\n",
       "      <th>Team</th>\n",
       "      <th>Selection Type</th>\n",
       "      <th>Nationality</th>\n",
       "    </tr>\n",
       "    <tr>\n",
       "      <th>NBA Draft Status</th>\n",
       "      <th></th>\n",
       "      <th></th>\n",
       "      <th></th>\n",
       "      <th></th>\n",
       "      <th></th>\n",
       "      <th></th>\n",
       "      <th></th>\n",
       "      <th></th>\n",
       "    </tr>\n",
       "  </thead>\n",
       "  <tbody>\n",
       "    <tr>\n",
       "      <th>1996 Rnd 1 Pick 13</th>\n",
       "      <td>16</td>\n",
       "      <td>16</td>\n",
       "      <td>16</td>\n",
       "      <td>16</td>\n",
       "      <td>16</td>\n",
       "      <td>16</td>\n",
       "      <td>16</td>\n",
       "      <td>16</td>\n",
       "    </tr>\n",
       "    <tr>\n",
       "      <th>2003 Rnd 1 Pick 1</th>\n",
       "      <td>13</td>\n",
       "      <td>13</td>\n",
       "      <td>13</td>\n",
       "      <td>13</td>\n",
       "      <td>13</td>\n",
       "      <td>13</td>\n",
       "      <td>13</td>\n",
       "      <td>13</td>\n",
       "    </tr>\n",
       "    <tr>\n",
       "      <th>1997 Rnd 1 Pick 1</th>\n",
       "      <td>13</td>\n",
       "      <td>13</td>\n",
       "      <td>13</td>\n",
       "      <td>13</td>\n",
       "      <td>13</td>\n",
       "      <td>13</td>\n",
       "      <td>13</td>\n",
       "      <td>13</td>\n",
       "    </tr>\n",
       "    <tr>\n",
       "      <th>1998 Rnd 1 Pick 9</th>\n",
       "      <td>13</td>\n",
       "      <td>13</td>\n",
       "      <td>13</td>\n",
       "      <td>13</td>\n",
       "      <td>13</td>\n",
       "      <td>13</td>\n",
       "      <td>13</td>\n",
       "      <td>13</td>\n",
       "    </tr>\n",
       "    <tr>\n",
       "      <th>1995 Rnd 1 Pick 5</th>\n",
       "      <td>12</td>\n",
       "      <td>12</td>\n",
       "      <td>12</td>\n",
       "      <td>12</td>\n",
       "      <td>12</td>\n",
       "      <td>12</td>\n",
       "      <td>12</td>\n",
       "      <td>12</td>\n",
       "    </tr>\n",
       "  </tbody>\n",
       "</table>\n",
       "</div>"
      ],
      "text/plain": [
       "                    Year  Player  Pos  HT  WT  Team  Selection Type  \\\n",
       "NBA Draft Status                                                      \n",
       "1996 Rnd 1 Pick 13    16      16   16  16  16    16              16   \n",
       "2003 Rnd 1 Pick 1     13      13   13  13  13    13              13   \n",
       "1997 Rnd 1 Pick 1     13      13   13  13  13    13              13   \n",
       "1998 Rnd 1 Pick 9     13      13   13  13  13    13              13   \n",
       "1995 Rnd 1 Pick 5     12      12   12  12  12    12              12   \n",
       "\n",
       "                    Nationality  \n",
       "NBA Draft Status                 \n",
       "1996 Rnd 1 Pick 13           16  \n",
       "2003 Rnd 1 Pick 1            13  \n",
       "1997 Rnd 1 Pick 1            13  \n",
       "1998 Rnd 1 Pick 9            13  \n",
       "1995 Rnd 1 Pick 5            12  "
      ]
     },
     "execution_count": 69,
     "metadata": {},
     "output_type": "execute_result"
    }
   ],
   "source": [
    "nba.sort_values('NBA Draft Status')\n",
    "print(f\" Draft Status Summary - {nba['NBA Draft Status'].describe()['top']} was the Top Draft Class with Frequency of {nba['NBA Draft Status'].describe()['freq']}: \\n {nba['NBA Draft Status'].describe()}\")\n",
    "\n",
    "draft_stat = nba.groupby(['NBA Draft Status']).count().sort_values('Year', ascending=False)\n",
    "draft_stat.head(5)"
   ]
  },
  {
   "cell_type": "markdown",
   "metadata": {},
   "source": [
    "# Are foriegn players more prevalent in the All-Star Game during this time?"
   ]
  },
  {
   "cell_type": "code",
   "execution_count": 191,
   "metadata": {},
   "outputs": [
    {
     "name": "stdout",
     "output_type": "stream",
     "text": [
      " Nationality Summary - Players from the United States were most prevalent with Frequency of 365: \n",
      " count               439\n",
      "unique               22\n",
      "top       United States\n",
      "freq                365\n",
      "Name: Nationality, dtype: object\n"
     ]
    },
    {
     "data": {
      "text/html": [
       "<div>\n",
       "<style scoped>\n",
       "    .dataframe tbody tr th:only-of-type {\n",
       "        vertical-align: middle;\n",
       "    }\n",
       "\n",
       "    .dataframe tbody tr th {\n",
       "        vertical-align: top;\n",
       "    }\n",
       "\n",
       "    .dataframe thead th {\n",
       "        text-align: right;\n",
       "    }\n",
       "</style>\n",
       "<table border=\"1\" class=\"dataframe\">\n",
       "  <thead>\n",
       "    <tr style=\"text-align: right;\">\n",
       "      <th></th>\n",
       "      <th>Year</th>\n",
       "      <th>Player</th>\n",
       "      <th>Pos</th>\n",
       "      <th>HT</th>\n",
       "      <th>WT</th>\n",
       "      <th>Team</th>\n",
       "      <th>Selection Type</th>\n",
       "      <th>NBA Draft Status</th>\n",
       "    </tr>\n",
       "    <tr>\n",
       "      <th>Nationality</th>\n",
       "      <th></th>\n",
       "      <th></th>\n",
       "      <th></th>\n",
       "      <th></th>\n",
       "      <th></th>\n",
       "      <th></th>\n",
       "      <th></th>\n",
       "      <th></th>\n",
       "    </tr>\n",
       "  </thead>\n",
       "  <tbody>\n",
       "    <tr>\n",
       "      <th>United States</th>\n",
       "      <td>365</td>\n",
       "      <td>365</td>\n",
       "      <td>365</td>\n",
       "      <td>365</td>\n",
       "      <td>365</td>\n",
       "      <td>365</td>\n",
       "      <td>365</td>\n",
       "      <td>365</td>\n",
       "    </tr>\n",
       "    <tr>\n",
       "      <th>Germany</th>\n",
       "      <td>13</td>\n",
       "      <td>13</td>\n",
       "      <td>13</td>\n",
       "      <td>13</td>\n",
       "      <td>13</td>\n",
       "      <td>13</td>\n",
       "      <td>13</td>\n",
       "      <td>13</td>\n",
       "    </tr>\n",
       "    <tr>\n",
       "      <th>Spain</th>\n",
       "      <td>9</td>\n",
       "      <td>9</td>\n",
       "      <td>9</td>\n",
       "      <td>9</td>\n",
       "      <td>9</td>\n",
       "      <td>9</td>\n",
       "      <td>9</td>\n",
       "      <td>9</td>\n",
       "    </tr>\n",
       "    <tr>\n",
       "      <th>Canada\\nSouth Africa</th>\n",
       "      <td>8</td>\n",
       "      <td>8</td>\n",
       "      <td>8</td>\n",
       "      <td>8</td>\n",
       "      <td>8</td>\n",
       "      <td>8</td>\n",
       "      <td>8</td>\n",
       "      <td>8</td>\n",
       "    </tr>\n",
       "    <tr>\n",
       "      <th>China</th>\n",
       "      <td>8</td>\n",
       "      <td>8</td>\n",
       "      <td>8</td>\n",
       "      <td>8</td>\n",
       "      <td>8</td>\n",
       "      <td>8</td>\n",
       "      <td>8</td>\n",
       "      <td>8</td>\n",
       "    </tr>\n",
       "  </tbody>\n",
       "</table>\n",
       "</div>"
      ],
      "text/plain": [
       "                      Year  Player  Pos   HT   WT  Team  Selection Type  \\\n",
       "Nationality                                                               \n",
       "United States          365     365  365  365  365   365             365   \n",
       "Germany                 13      13   13   13   13    13              13   \n",
       "Spain                    9       9    9    9    9     9               9   \n",
       "Canada\\nSouth Africa     8       8    8    8    8     8               8   \n",
       "China                    8       8    8    8    8     8               8   \n",
       "\n",
       "                      NBA Draft Status  \n",
       "Nationality                             \n",
       "United States                      365  \n",
       "Germany                             13  \n",
       "Spain                                9  \n",
       "Canada\\nSouth Africa                 8  \n",
       "China                                8  "
      ]
     },
     "execution_count": 191,
     "metadata": {},
     "output_type": "execute_result"
    }
   ],
   "source": [
    "nba.sort_values('Nationality')\n",
    "print(f\" Nationality Summary - Players from the {nba['Nationality'].describe()['top']} were most prevalent with Frequency of {nba['Nationality'].describe()['freq']}: \\n {nba['Nationality'].describe()}\")\n",
    "\n",
    "teams = nba.groupby(['Nationality']).count().sort_values('Year', ascending=False)\n",
    "teams.head()"
   ]
  },
  {
   "cell_type": "markdown",
   "metadata": {},
   "source": [
    "# How often are the Western All-Stars voted in by fans?"
   ]
  },
  {
   "cell_type": "code",
   "execution_count": 140,
   "metadata": {},
   "outputs": [
    {
     "name": "stdout",
     "output_type": "stream",
     "text": [
      " Number of Times Western All-Stars were Voted in by Fans: 85\n"
     ]
    }
   ],
   "source": [
    "# nba.sort_values('Selection Type')\n",
    "# selection_type = nba.groupby(['Selection Type']).count()\n",
    "# selection_type\n",
    "\n",
    "\n",
    "print(f\" Number of Times Western All-Stars were Voted in by Fans: {nba.loc[nba['Selection Type'] == 'Western All-Star Fan Vote Selection', 'Selection Type'].count()}\")\n"
   ]
  },
  {
   "cell_type": "markdown",
   "metadata": {},
   "source": [
    "# How many times does Steph Curry make the All-Star game during this time period?"
   ]
  },
  {
   "cell_type": "code",
   "execution_count": 180,
   "metadata": {},
   "outputs": [
    {
     "name": "stdout",
     "output_type": "stream",
     "text": [
      " Steph Curry All-Star Game Count: 4 \n",
      "\n",
      " \n",
      " Steph Curry Summary Stats: \n",
      "               Year     WT\n",
      "count     4.000000    4.0\n",
      "mean   2014.500000  190.0\n",
      "std       1.290994    0.0\n",
      "min    2013.000000  190.0\n",
      "25%    2013.750000  190.0\n",
      "50%    2014.500000  190.0\n",
      "75%    2015.250000  190.0\n",
      "max    2016.000000  190.0\n"
     ]
    }
   ],
   "source": [
    "curry = nba[nba['Player'] == 'Stephen Curry']\n",
    "print(f\" Steph Curry All-Star Game Count: {curry.Year.count()} \\n\")\n",
    "\n",
    "print(f\" \\n Steph Curry Summary Stats: \\n {nba[nba['Player'] == 'Stephen Curry'].describe()}\")"
   ]
  },
  {
   "cell_type": "markdown",
   "metadata": {},
   "source": [
    "# How many Shooting Gaurds have made the All-Star game during this time?"
   ]
  },
  {
   "cell_type": "code",
   "execution_count": 185,
   "metadata": {},
   "outputs": [
    {
     "name": "stdout",
     "output_type": "stream",
     "text": [
      " Count of Shooting Guards in All-Star Games: 57\n"
     ]
    }
   ],
   "source": [
    "print(f\" Count of Shooting Guards in All-Star Games: {nba[nba['Pos'] == 'SG']['Player'].count()}\")"
   ]
  },
  {
   "cell_type": "markdown",
   "metadata": {},
   "source": [
    "# How many Chicago Bulls players have made the All-Star Game during this time period?"
   ]
  },
  {
   "cell_type": "code",
   "execution_count": 197,
   "metadata": {},
   "outputs": [
    {
     "name": "stdout",
     "output_type": "stream",
     "text": [
      " Count of Chicago Bulls' Players in All-Star Games: 12\n"
     ]
    }
   ],
   "source": [
    "print(f\" Count of Chicago Bulls' Players in All-Star Games: {nba[nba['Team'] == 'Chicago Bulls']['Player'].count()}\")\n",
    "\n",
    "# nba.groupby(['Team']).count()"
   ]
  }
 ],
 "metadata": {
  "kernelspec": {
   "display_name": "Python 3",
   "language": "python",
   "name": "python3"
  },
  "language_info": {
   "codemirror_mode": {
    "name": "ipython",
    "version": 3
   },
   "file_extension": ".py",
   "mimetype": "text/x-python",
   "name": "python",
   "nbconvert_exporter": "python",
   "pygments_lexer": "ipython3",
   "version": "3.8.5"
  }
 },
 "nbformat": 4,
 "nbformat_minor": 2
}
